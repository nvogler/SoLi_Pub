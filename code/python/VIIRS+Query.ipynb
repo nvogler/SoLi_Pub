{
 "cells": [
  {
   "cell_type": "markdown",
   "metadata": {
    "deletable": true,
    "editable": true
   },
   "source": [
    "### Connect and authorize\n"
   ]
  },
  {
   "cell_type": "code",
   "execution_count": 4,
   "metadata": {
    "collapsed": false,
    "deletable": true,
    "editable": true
   },
   "outputs": [
    {
     "name": "stdout",
     "output_type": "stream",
     "text": [
      "The Earth Engine package initialized successfully!\n"
     ]
    }
   ],
   "source": [
    "import ee\n",
    "\n",
    "try:\n",
    "  ee.Initialize()\n",
    "  print('The Earth Engine package initialized successfully!')\n",
    "except ee.EEException as e:\n",
    "  print('The Earth Engine package failed to initialize!')\n",
    "except:\n",
    "    print(\"Unexpected error:\", sys.exc_info()[0])\n",
    "    raise"
   ]
  },
  {
   "cell_type": "markdown",
   "metadata": {
    "deletable": true,
    "editable": true
   },
   "source": [
    "#### On authorization failure"
   ]
  },
  {
   "cell_type": "code",
   "execution_count": null,
   "metadata": {
    "collapsed": false,
    "deletable": true,
    "editable": true
   },
   "outputs": [],
   "source": [
    "%%bash\n",
    "earthengine authenticate --quiet"
   ]
  },
  {
   "cell_type": "code",
   "execution_count": null,
   "metadata": {
    "collapsed": false,
    "deletable": true,
    "editable": true
   },
   "outputs": [],
   "source": [
    "%%bash\n",
    "earthengine authenticate --authorization-code=4/c5Ww2rNPGnbNhq0UuuJDxOiZwNKXX2W80v31BC8m7AM"
   ]
  },
  {
   "cell_type": "markdown",
   "metadata": {
    "deletable": true,
    "editable": true
   },
   "source": [
    "### Import Packages"
   ]
  },
  {
   "cell_type": "code",
   "execution_count": 2,
   "metadata": {
    "collapsed": true,
    "deletable": true,
    "editable": true
   },
   "outputs": [],
   "source": [
    "import urllib\n",
    "import zipfile\n",
    "import sys, os\n",
    "import time\n",
    "from sys import stdout\n",
    "from PIL import Image, ImageMath\n",
    "from datetime import date, timedelta"
   ]
  },
  {
   "cell_type": "markdown",
   "metadata": {
    "deletable": true,
    "editable": true
   },
   "source": [
    "### Define Functions for Requests"
   ]
  },
  {
   "cell_type": "code",
   "execution_count": 2,
   "metadata": {
    "collapsed": true,
    "deletable": true,
    "editable": true
   },
   "outputs": [],
   "source": [
    "def ImportTifImage(image_list):\n",
    "    # Create range for request\n",
    "    geometry = ee.Geometry.Rectangle([68.18625, 6.754256, 97.41516, 35.50133])\n",
    "    \n",
    "    # Get download paths for images\n",
    "    for date in image_list.keys():\n",
    "        # avg_rad\n",
    "        img_name = image_list[date][0].getDownloadUrl({\n",
    "            'scale': 1024,\n",
    "            'region': geometry['coordinates'][0]\n",
    "        })\n",
    "\n",
    "        stdout.write(\"\\nDownloading from... \\n...\\r%s\" % img_name)\n",
    "\n",
    "        # Download file\n",
    "        t_filename = str(date) + \"_tif_file\"\n",
    "        file_dwnldr = urllib.URLopener()\n",
    "        file_dwnldr.retrieve(img_name, t_filename)\n",
    "        \n",
    "        # Storage for filenames to be transferred\n",
    "        transfers = []\n",
    "        \n",
    "        # Unzip and transform\n",
    "        with zipfile.ZipFile(t_filename, 'r') as zipped_img:\n",
    "            stdout.write(\"\\nTransforming...\\r%s\" % zipped_img.namelist()[1])\n",
    "            stdout.flush()\n",
    "            # Load tif file \n",
    "            img = Image.open(zipped_img.extract(zipped_img.namelist()[1]))\n",
    "            # Gamma correction\n",
    "            img = ImageMath.eval(\"a**(gamma)\", a=img, gamma=10)\n",
    "            # Save 32 bit int / pixel\n",
    "            img.convert('I').save(\"32bit/\" + str(zipped_img.namelist()[1]))\n",
    "            # Save 8 bit int / pixel\n",
    "            img.convert('L').save(\"8bit/\" + str(zipped_img.namelist()[1]))\n",
    "            # Remove zipped file\n",
    "            os.remove(zipped_img.namelist()[1])\n",
    "            # Store for transfer\n",
    "            transfers.append(str(zipped_img.namelist()[1]))\n",
    "        # Remove downloaded file\n",
    "        os.remove(t_filename)\n",
    "    stdout.write(\"\\nComplete.\\n\")\n",
    "    \n",
    "    # Return transfers list\n",
    "    return transfers"
   ]
  },
  {
   "cell_type": "markdown",
   "metadata": {
    "deletable": true,
    "editable": true
   },
   "source": [
    "### Pull Image Collection"
   ]
  },
  {
   "cell_type": "markdown",
   "metadata": {
    "deletable": true,
    "editable": true
   },
   "source": [
    "#### Download image files, unzip, transform, and store."
   ]
  },
  {
   "cell_type": "markdown",
   "metadata": {
    "deletable": true,
    "editable": true
   },
   "source": [
    "##### All Image Files"
   ]
  },
  {
   "cell_type": "code",
   "execution_count": null,
   "metadata": {
    "collapsed": true,
    "deletable": true,
    "editable": true
   },
   "outputs": [],
   "source": [
    "# All Image Files\n",
    "## Create dates List\n",
    "dates = list(range(20140101, 20141301, 100)) + \\\n",
    "        list(range(20150101, 20151301, 100)) + \\\n",
    "        list(range(20160101, 20161301, 100)) + \\\n",
    "        list(range(20170101, 20171001, 100))\n",
    "## Create images list for avg_rad, cf_avg\n",
    "image_list = {}\n",
    "for date in dates:\n",
    "  ## Create tuple of avg_rad, cf_avg\n",
    "  image_list[date] = ((\n",
    "    ee.Image(\"NOAA/VIIRS/DNB/MONTHLY_V1/VCMCFG/\" + str(date)).select('avg_rad'), \n",
    "    ee.Image(\"NOAA/VIIRS/DNB/MONTHLY_V1/VCMCFG/\" + str(date)).select('cf_avg')\n",
    "  ))\n",
    "  \n",
    "# Import\n",
    "transfers = ImportTifImage(image_list)\n",
    "# Clear\n",
    "image_list = None"
   ]
  },
  {
   "cell_type": "markdown",
   "metadata": {
    "deletable": true,
    "editable": true
   },
   "source": [
    "##### Most Recent Image File Only"
   ]
  },
  {
   "cell_type": "code",
   "execution_count": 27,
   "metadata": {
    "collapsed": false,
    "deletable": true,
    "editable": true
   },
   "outputs": [
    {
     "name": "stdout",
     "output_type": "stream",
     "text": [
      "\n",
      "Downloading from... \n",
      "https://earthengine.googleapis.com/api/download?docid=2b064a694192b9f94b288c68a3c107bc&token=ad92e671caf305e8aa3ebe9711b038b5\n",
      "20170901.avg_rad.tif\n",
      "Complete."
     ]
    }
   ],
   "source": [
    "# Only most recent file (3 months ago due to earth engine delays)\n",
    "date_min = date.today() - timedelta(days=date.today().day + 1)\n",
    "date_min = date_min - timedelta(days=date_min.day + 1)\n",
    "date_min = date_min - timedelta(days=date_min.day + 1)\n",
    "date_min = date_min - timedelta(days=date_min.day - 1 )\n",
    "date_min = str(date_min).replace('-', '')\n",
    "\n",
    "## Create tuple of avg_rad, cf_avg\n",
    "image_list = {}\n",
    "image_list[date_min] = ((\n",
    "  ee.Image(\"NOAA/VIIRS/DNB/MONTHLY_V1/VCMCFG/\" + str(date_min)).select('avg_rad'), \n",
    "  ee.Image(\"NOAA/VIIRS/DNB/MONTHLY_V1/VCMCFG/\" + str(date_min)).select('cf_avg')\n",
    "))\n",
    "\n",
    "# Import\n",
    "transfers = ImportTifImage(image_list)\n",
    "# Clear\n",
    "image_list = None"
   ]
  },
  {
   "cell_type": "markdown",
   "metadata": {
    "deletable": true,
    "editable": true
   },
   "source": [
    "### Transfer Downloaded Image Files to GCP Bucket"
   ]
  },
  {
   "cell_type": "code",
   "execution_count": 28,
   "metadata": {
    "collapsed": false,
    "deletable": true,
    "editable": true
   },
   "outputs": [
    {
     "name": "stdout",
     "output_type": "stream",
     "text": [
      "\n",
      "Transferring files to GCP...\n",
      "Copying file://32bit/20170901.avg_rad.tif [Content-Type=image/tiff]...\n",
      "| [1 files][ 37.9 MiB/ 37.9 MiB]                                                \n",
      "Operation completed over 1 objects/37.9 MiB.                                     \n",
      "Copying file://8bit/20170901.avg_rad.tif [Content-Type=image/tiff]...\n",
      "- [1 files][  9.5 MiB/  9.5 MiB]                                                \n",
      "Operation completed over 1 objects/9.5 MiB.                                      \n",
      "\n",
      "Complete.\n"
     ]
    }
   ],
   "source": [
    "for filename in transfers:\n",
    "    stdout.write(\"\\nTransferring files to GCP...\\n\")\n",
    "    # Transfer 32bit\n",
    "    tsf_32 = '32bit/' + filename\n",
    "    !gsutil cp '$tsf_32' gs://soli_ee_data/earthengine/VIIRS/india_32bit\n",
    "    # Transfer 8bit\n",
    "    tsf_8 = '8bit/' + filename\n",
    "    !gsutil cp '$tsf_8' gs://soli_ee_data/earthengine/VIIRS/india_8bit\n",
    "\n",
    "stdout.write(\"\\nComplete.\\n\")\n",
    "stdout.flush()"
   ]
  },
  {
   "cell_type": "markdown",
   "metadata": {
    "deletable": true,
    "editable": true
   },
   "source": [
    "### Transfer from GCP Bucket to VMs Bucket"
   ]
  },
  {
   "cell_type": "code",
   "execution_count": 4,
   "metadata": {
    "collapsed": false,
    "deletable": true,
    "editable": true
   },
   "outputs": [
    {
     "name": "stderr",
     "output_type": "stream",
     "text": [
      "Copying gs://peerless-robot-187203/india_viirs_8bit.tif [Content-Type=image/tiff]...\n",
      "/ [0 files][    0.0 B/  2.8 MiB]                                                \r",
      "-\r",
      "- [1 files][  2.8 MiB/  2.8 MiB]                                                \r\n",
      "Operation completed over 1 objects/2.8 MiB.                                      \n"
     ]
    }
   ],
   "source": [
    "%%bash\n",
    "gsutil cp gs://soli_ee_data/earthengine/Transformed_assets/ gs://peerless-robot-187203/india_viirs_8bit.tif"
   ]
  },
  {
   "cell_type": "markdown",
   "metadata": {
    "deletable": true,
    "editable": true
   },
   "source": [
    "### Upload to Earth Engine"
   ]
  },
  {
   "cell_type": "code",
   "execution_count": 20,
   "metadata": {
    "collapsed": false,
    "deletable": true,
    "editable": true
   },
   "outputs": [
    {
     "name": "stdout",
     "output_type": "stream",
     "text": [
      "Started upload task with ID: 3NNB2XYZQYCQAIX3G2ORF2VQ\r\n"
     ]
    }
   ],
   "source": [
    "## TODO: Loop through files in directory\n",
    "asset_id = \"full_test\"\n",
    "filename = \"mpce.tif\"\n",
    "\n",
    "!earthengine upload image --asset_id=users/nvogler/soli/'$asset_id' gs://soli_ee_data/earthengine/Transformed_assets/'$filename'"
   ]
  },
  {
   "cell_type": "code",
   "execution_count": 31,
   "metadata": {
    "collapsed": false
   },
   "outputs": [
    {
     "name": "stdout",
     "output_type": "stream",
     "text": [
      "Asset ID: Median MPCE\n",
      "Filename: Median MPCE.tiff\n",
      "Invalid asset id. Only letters, numbers, underscores, hyphens, and slashes are allowed.\n",
      "Asset ID: india_viirs_8bit\n",
      "Filename: india_viirs_8bit.tif\n",
      "Started upload task with ID: ZBF5TIFA4PWEEODIMEXOYV6N\n",
      "Asset ID: mpce\n",
      "Filename: mpce.tif\n",
      "Started upload task with ID: S4LBDNQANXOWTQEF7DZR3WVB\n"
     ]
    }
   ],
   "source": [
    "import google.datalab.storage as storage\n",
    "filenames = [o.key for o in storage.Bucket('soli_ee_data').objects()\n",
    "  if o.key.startswith('earthengine/Transformed_assets/')]\n",
    "\n",
    "for filename in filenames:\n",
    "  # Asset ID, Filename\n",
    "  xfer_file = filename.split('/')[-1]\n",
    "  asset_id = xfer_file.split('.')[0]\n",
    "  # Verify not null\n",
    "  if asset_id != \"\":\n",
    "    print (\"Asset ID: \" + asset_id)\n",
    "    print (\"Filename: \" + xfer_file)\n",
    "    # Upload to Earth Engine\n",
    "    try:\n",
    "      !earthengine upload image --asset_id=users/nvogler/soli/'$asset_id' gs://soli_ee_data/earthengine/Transformed_assets/'$xfer_file'\n",
    "    except(e):\n",
    "      print (\"Error uploading image to Earth Engine.\\n\" + str(e))"
   ]
  },
  {
   "cell_type": "code",
   "execution_count": null,
   "metadata": {
    "collapsed": true
   },
   "outputs": [],
   "source": []
  }
 ],
 "metadata": {
  "kernelspec": {
   "display_name": "Python 2",
   "language": "python",
   "name": "python2"
  },
  "language_info": {
   "codemirror_mode": {
    "name": "ipython",
    "version": 2
   },
   "file_extension": ".py",
   "mimetype": "text/x-python",
   "name": "python",
   "nbconvert_exporter": "python",
   "pygments_lexer": "ipython2",
   "version": "2.7.12"
  }
 },
 "nbformat": 4,
 "nbformat_minor": 2
}
